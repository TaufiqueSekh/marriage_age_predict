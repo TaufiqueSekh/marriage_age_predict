{
 "cells": [
  {
   "cell_type": "code",
   "execution_count": 1,
   "id": "bd904166",
   "metadata": {},
   "outputs": [],
   "source": [
    "import pickle\n",
    "model = pickle.load(open('marriage_age_predict_model.pkl', 'rb'))\n"
   ]
  },
  {
   "cell_type": "code",
   "execution_count": 2,
   "id": "4bf830cc",
   "metadata": {},
   "outputs": [
    {
     "data": {
      "text/plain": [
       "array([28.9458611])"
      ]
     },
     "execution_count": 2,
     "metadata": {},
     "output_type": "execute_result"
    }
   ],
   "source": [
    "model.predict([[1,2,5,6,5,170]])"
   ]
  },
  {
   "cell_type": "code",
   "execution_count": null,
   "id": "0370793b",
   "metadata": {},
   "outputs": [],
   "source": []
  }
 ],
 "metadata": {
  "kernelspec": {
   "display_name": "Python 3",
   "language": "python",
   "name": "python3"
  },
  "language_info": {
   "codemirror_mode": {
    "name": "ipython",
    "version": 3
   },
   "file_extension": ".py",
   "mimetype": "text/x-python",
   "name": "python",
   "nbconvert_exporter": "python",
   "pygments_lexer": "ipython3",
   "version": "3.8.8"
  }
 },
 "nbformat": 4,
 "nbformat_minor": 5
}
